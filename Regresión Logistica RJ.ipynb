{
 "cells": [
  {
   "cell_type": "code",
   "execution_count": 1,
   "metadata": {},
   "outputs": [],
   "source": [
    "import pandas as pd\n",
    "import numpy as np\n",
    "import matplotlib.pyplot as plt\n",
    "import scipy.special as special\n",
    "from scipy.optimize import curve_fit\n",
    "import seaborn as sns\n",
    "from sklearn.metrics import r2_score\n",
    "from sklearn.model_selection import train_test_split\n",
    "from sklearn.preprocessing import StandardScaler"
   ]
  },
  {
   "cell_type": "code",
   "execution_count": 2,
   "metadata": {},
   "outputs": [
    {
     "data": {
      "text/html": [
       "<div>\n",
       "<style scoped>\n",
       "    .dataframe tbody tr th:only-of-type {\n",
       "        vertical-align: middle;\n",
       "    }\n",
       "\n",
       "    .dataframe tbody tr th {\n",
       "        vertical-align: top;\n",
       "    }\n",
       "\n",
       "    .dataframe thead th {\n",
       "        text-align: right;\n",
       "    }\n",
       "</style>\n",
       "<table border=\"1\" class=\"dataframe\">\n",
       "  <thead>\n",
       "    <tr style=\"text-align: right;\">\n",
       "      <th></th>\n",
       "      <th>Unnamed: 0</th>\n",
       "      <th>id</th>\n",
       "      <th>host_response_rate</th>\n",
       "      <th>host_acceptance_rate</th>\n",
       "      <th>host_listings_count</th>\n",
       "      <th>host_total_listings_count</th>\n",
       "      <th>accommodates</th>\n",
       "      <th>bathrooms</th>\n",
       "      <th>bedrooms</th>\n",
       "      <th>beds</th>\n",
       "      <th>...</th>\n",
       "      <th>property_type</th>\n",
       "      <th>room_type</th>\n",
       "      <th>bathrooms_text</th>\n",
       "      <th>amenities</th>\n",
       "      <th>calendar_updated</th>\n",
       "      <th>has_availability</th>\n",
       "      <th>calendar_last_scraped</th>\n",
       "      <th>last_review</th>\n",
       "      <th>license</th>\n",
       "      <th>instant_bookable</th>\n",
       "    </tr>\n",
       "  </thead>\n",
       "  <tbody>\n",
       "    <tr>\n",
       "      <th>0</th>\n",
       "      <td>0</td>\n",
       "      <td>280625.0</td>\n",
       "      <td>1.0</td>\n",
       "      <td>0.88</td>\n",
       "      <td>12.0</td>\n",
       "      <td>14.0</td>\n",
       "      <td>2.0</td>\n",
       "      <td>2.0</td>\n",
       "      <td>1.0</td>\n",
       "      <td>1.0</td>\n",
       "      <td>...</td>\n",
       "      <td>Private room in home</td>\n",
       "      <td>Private room</td>\n",
       "      <td>2 shared baths</td>\n",
       "      <td>[\"Host greets you\", \"Dishes and silverware\", \"...</td>\n",
       "      <td>SIN INFORMACION</td>\n",
       "      <td>t</td>\n",
       "      <td>25/09/2024</td>\n",
       "      <td>01/09/2024</td>\n",
       "      <td>SIN INFORMACION</td>\n",
       "      <td>f</td>\n",
       "    </tr>\n",
       "    <tr>\n",
       "      <th>1</th>\n",
       "      <td>1</td>\n",
       "      <td>280765.0</td>\n",
       "      <td>1.0</td>\n",
       "      <td>0.90</td>\n",
       "      <td>3.0</td>\n",
       "      <td>5.0</td>\n",
       "      <td>2.0</td>\n",
       "      <td>1.0</td>\n",
       "      <td>0.0</td>\n",
       "      <td>4.0</td>\n",
       "      <td>...</td>\n",
       "      <td>Entire rental unit</td>\n",
       "      <td>Entire home/apt</td>\n",
       "      <td>1 bath</td>\n",
       "      <td>[\"Stove\", \"Cooking basics\", \"Refrigerator\", \"D...</td>\n",
       "      <td>SIN INFORMACION</td>\n",
       "      <td>t</td>\n",
       "      <td>25/09/2024</td>\n",
       "      <td>03/10/2019</td>\n",
       "      <td>SIN INFORMACION</td>\n",
       "      <td>f</td>\n",
       "    </tr>\n",
       "    <tr>\n",
       "      <th>2</th>\n",
       "      <td>2</td>\n",
       "      <td>281304.0</td>\n",
       "      <td>1.0</td>\n",
       "      <td>0.73</td>\n",
       "      <td>11.0</td>\n",
       "      <td>12.0</td>\n",
       "      <td>4.0</td>\n",
       "      <td>1.0</td>\n",
       "      <td>1.0</td>\n",
       "      <td>1.0</td>\n",
       "      <td>...</td>\n",
       "      <td>Entire rental unit</td>\n",
       "      <td>Entire home/apt</td>\n",
       "      <td>1 bath</td>\n",
       "      <td>[\"Host greets you\", \"Dishes and silverware\", \"...</td>\n",
       "      <td>SIN INFORMACION</td>\n",
       "      <td>t</td>\n",
       "      <td>26/09/2024</td>\n",
       "      <td>31/07/2024</td>\n",
       "      <td>SIN INFORMACION</td>\n",
       "      <td>f</td>\n",
       "    </tr>\n",
       "    <tr>\n",
       "      <th>3</th>\n",
       "      <td>3</td>\n",
       "      <td>281459.0</td>\n",
       "      <td>1.0</td>\n",
       "      <td>0.97</td>\n",
       "      <td>1.0</td>\n",
       "      <td>2.0</td>\n",
       "      <td>4.0</td>\n",
       "      <td>2.0</td>\n",
       "      <td>2.0</td>\n",
       "      <td>2.0</td>\n",
       "      <td>...</td>\n",
       "      <td>Entire rental unit</td>\n",
       "      <td>Entire home/apt</td>\n",
       "      <td>2 baths</td>\n",
       "      <td>[\"Baking sheet\", \"Dishes and silverware\", \"Fre...</td>\n",
       "      <td>SIN INFORMACION</td>\n",
       "      <td>t</td>\n",
       "      <td>25/09/2024</td>\n",
       "      <td>16/09/2024</td>\n",
       "      <td>SIN INFORMACION</td>\n",
       "      <td>f</td>\n",
       "    </tr>\n",
       "    <tr>\n",
       "      <th>4</th>\n",
       "      <td>4</td>\n",
       "      <td>282071.0</td>\n",
       "      <td>1.0</td>\n",
       "      <td>0.67</td>\n",
       "      <td>1.0</td>\n",
       "      <td>2.0</td>\n",
       "      <td>2.0</td>\n",
       "      <td>1.0</td>\n",
       "      <td>1.0</td>\n",
       "      <td>1.0</td>\n",
       "      <td>...</td>\n",
       "      <td>Entire rental unit</td>\n",
       "      <td>Entire home/apt</td>\n",
       "      <td>1 bath</td>\n",
       "      <td>[\"Air conditioning\", \"TV with standard cable\",...</td>\n",
       "      <td>SIN INFORMACION</td>\n",
       "      <td>t</td>\n",
       "      <td>25/09/2024</td>\n",
       "      <td>13/02/2024</td>\n",
       "      <td>SIN INFORMACION</td>\n",
       "      <td>f</td>\n",
       "    </tr>\n",
       "  </tbody>\n",
       "</table>\n",
       "<p>5 rows × 51 columns</p>\n",
       "</div>"
      ],
      "text/plain": [
       "   Unnamed: 0        id  host_response_rate  host_acceptance_rate  \\\n",
       "0           0  280625.0                 1.0                  0.88   \n",
       "1           1  280765.0                 1.0                  0.90   \n",
       "2           2  281304.0                 1.0                  0.73   \n",
       "3           3  281459.0                 1.0                  0.97   \n",
       "4           4  282071.0                 1.0                  0.67   \n",
       "\n",
       "   host_listings_count  host_total_listings_count  accommodates  bathrooms  \\\n",
       "0                 12.0                       14.0           2.0        2.0   \n",
       "1                  3.0                        5.0           2.0        1.0   \n",
       "2                 11.0                       12.0           4.0        1.0   \n",
       "3                  1.0                        2.0           4.0        2.0   \n",
       "4                  1.0                        2.0           2.0        1.0   \n",
       "\n",
       "   bedrooms  beds  ...         property_type        room_type  bathrooms_text  \\\n",
       "0       1.0   1.0  ...  Private room in home     Private room  2 shared baths   \n",
       "1       0.0   4.0  ...    Entire rental unit  Entire home/apt          1 bath   \n",
       "2       1.0   1.0  ...    Entire rental unit  Entire home/apt          1 bath   \n",
       "3       2.0   2.0  ...    Entire rental unit  Entire home/apt         2 baths   \n",
       "4       1.0   1.0  ...    Entire rental unit  Entire home/apt          1 bath   \n",
       "\n",
       "                                           amenities  calendar_updated  \\\n",
       "0  [\"Host greets you\", \"Dishes and silverware\", \"...   SIN INFORMACION   \n",
       "1  [\"Stove\", \"Cooking basics\", \"Refrigerator\", \"D...   SIN INFORMACION   \n",
       "2  [\"Host greets you\", \"Dishes and silverware\", \"...   SIN INFORMACION   \n",
       "3  [\"Baking sheet\", \"Dishes and silverware\", \"Fre...   SIN INFORMACION   \n",
       "4  [\"Air conditioning\", \"TV with standard cable\",...   SIN INFORMACION   \n",
       "\n",
       "   has_availability  calendar_last_scraped  last_review          license  \\\n",
       "0                 t             25/09/2024   01/09/2024  SIN INFORMACION   \n",
       "1                 t             25/09/2024   03/10/2019  SIN INFORMACION   \n",
       "2                 t             26/09/2024   31/07/2024  SIN INFORMACION   \n",
       "3                 t             25/09/2024   16/09/2024  SIN INFORMACION   \n",
       "4                 t             25/09/2024   13/02/2024  SIN INFORMACION   \n",
       "\n",
       "   instant_bookable  \n",
       "0                 f  \n",
       "1                 f  \n",
       "2                 f  \n",
       "3                 f  \n",
       "4                 f  \n",
       "\n",
       "[5 rows x 51 columns]"
      ]
     },
     "execution_count": 2,
     "metadata": {},
     "output_type": "execute_result"
    }
   ],
   "source": [
    "df = pd.read_csv(\"Rio de Janeiro sin atipicos 2.csv\")\n",
    "df.head(5)"
   ]
  },
  {
   "cell_type": "code",
   "execution_count": 3,
   "metadata": {},
   "outputs": [],
   "source": [
    "df= df.drop(['Unnamed: 0'], axis=1)"
   ]
  },
  {
   "cell_type": "code",
   "execution_count": 5,
   "metadata": {},
   "outputs": [
    {
     "name": "stdout",
     "output_type": "stream",
     "text": [
      "<class 'pandas.core.frame.DataFrame'>\n",
      "RangeIndex: 36967 entries, 0 to 36966\n",
      "Data columns (total 50 columns):\n",
      " #   Column                       Non-Null Count  Dtype  \n",
      "---  ------                       --------------  -----  \n",
      " 0   id                           36967 non-null  float64\n",
      " 1   host_response_rate           36967 non-null  float64\n",
      " 2   host_acceptance_rate         36967 non-null  float64\n",
      " 3   host_listings_count          36967 non-null  float64\n",
      " 4   host_total_listings_count    36967 non-null  float64\n",
      " 5   accommodates                 36967 non-null  float64\n",
      " 6   bathrooms                    36967 non-null  float64\n",
      " 7   bedrooms                     36967 non-null  float64\n",
      " 8   beds                         36967 non-null  float64\n",
      " 9   price                        36967 non-null  float64\n",
      " 10  minimum_nights               36967 non-null  float64\n",
      " 11  maximum_nights               36967 non-null  float64\n",
      " 12  availability_30              36967 non-null  int64  \n",
      " 13  availability_60              36967 non-null  int64  \n",
      " 14  availability_365             36967 non-null  int64  \n",
      " 15  number_of_reviews            36967 non-null  float64\n",
      " 16  number_of_reviews_ltm        36967 non-null  float64\n",
      " 17  number_of_reviews_l30d       36967 non-null  float64\n",
      " 18  review_scores_rating         36967 non-null  float64\n",
      " 19  review_scores_accuracy       36967 non-null  float64\n",
      " 20  review_scores_cleanliness    36967 non-null  float64\n",
      " 21  review_scores_checkin        36967 non-null  float64\n",
      " 22  review_scores_communication  36967 non-null  float64\n",
      " 23  review_scores_location       36967 non-null  float64\n",
      " 24  review_scores_value          36967 non-null  float64\n",
      " 25  reviews_per_month            36967 non-null  float64\n",
      " 26  last_scraped                 36967 non-null  object \n",
      " 27  name                         36967 non-null  object \n",
      " 28  description                  36967 non-null  object \n",
      " 29  neighborhood_overview        36967 non-null  object \n",
      " 30  picture_url                  36967 non-null  object \n",
      " 31  host_name                    36967 non-null  object \n",
      " 32  host_since                   36967 non-null  object \n",
      " 33  host_about                   36967 non-null  object \n",
      " 34  host_response_time           36967 non-null  object \n",
      " 35  host_is_superhost            36967 non-null  object \n",
      " 36  host_verifications           36967 non-null  object \n",
      " 37  host_has_profile_pic         36967 non-null  object \n",
      " 38  host_identity_verified       36967 non-null  object \n",
      " 39  neighbourhood                36967 non-null  object \n",
      " 40  property_type                36967 non-null  object \n",
      " 41  room_type                    36967 non-null  object \n",
      " 42  bathrooms_text               36967 non-null  object \n",
      " 43  amenities                    36967 non-null  object \n",
      " 44  calendar_updated             36967 non-null  object \n",
      " 45  has_availability             36967 non-null  object \n",
      " 46  calendar_last_scraped        36967 non-null  object \n",
      " 47  last_review                  36967 non-null  object \n",
      " 48  license                      36967 non-null  object \n",
      " 49  instant_bookable             36967 non-null  object \n",
      "dtypes: float64(23), int64(3), object(24)\n",
      "memory usage: 14.1+ MB\n"
     ]
    }
   ],
   "source": [
    "df.info()"
   ]
  },
  {
   "cell_type": "code",
   "execution_count": 6,
   "metadata": {},
   "outputs": [
    {
     "data": {
      "text/plain": [
       "id                             0\n",
       "host_response_rate             0\n",
       "host_acceptance_rate           0\n",
       "host_listings_count            0\n",
       "host_total_listings_count      0\n",
       "accommodates                   0\n",
       "bathrooms                      0\n",
       "bedrooms                       0\n",
       "beds                           0\n",
       "price                          0\n",
       "minimum_nights                 0\n",
       "maximum_nights                 0\n",
       "availability_30                0\n",
       "availability_60                0\n",
       "availability_365               0\n",
       "number_of_reviews              0\n",
       "number_of_reviews_ltm          0\n",
       "number_of_reviews_l30d         0\n",
       "review_scores_rating           0\n",
       "review_scores_accuracy         0\n",
       "review_scores_cleanliness      0\n",
       "review_scores_checkin          0\n",
       "review_scores_communication    0\n",
       "review_scores_location         0\n",
       "review_scores_value            0\n",
       "reviews_per_month              0\n",
       "last_scraped                   0\n",
       "name                           0\n",
       "description                    0\n",
       "neighborhood_overview          0\n",
       "picture_url                    0\n",
       "host_name                      0\n",
       "host_since                     0\n",
       "host_about                     0\n",
       "host_response_time             0\n",
       "host_is_superhost              0\n",
       "host_verifications             0\n",
       "host_has_profile_pic           0\n",
       "host_identity_verified         0\n",
       "neighbourhood                  0\n",
       "property_type                  0\n",
       "room_type                      0\n",
       "bathrooms_text                 0\n",
       "amenities                      0\n",
       "calendar_updated               0\n",
       "has_availability               0\n",
       "calendar_last_scraped          0\n",
       "last_review                    0\n",
       "license                        0\n",
       "instant_bookable               0\n",
       "dtype: int64"
      ]
     },
     "execution_count": 6,
     "metadata": {},
     "output_type": "execute_result"
    }
   ],
   "source": [
    "valores_nulos=df.isnull().sum()\n",
    "valores_nulos"
   ]
  },
  {
   "cell_type": "code",
   "execution_count": 8,
   "metadata": {},
   "outputs": [
    {
     "name": "stdout",
     "output_type": "stream",
     "text": [
      "host_response_time\n",
      "Rápido    25363\n",
      "Lento     11604\n",
      "Name: count, dtype: int64\n"
     ]
    }
   ],
   "source": [
    "# Convertir host_response_time a binario\n",
    "df[\"host_response_time\"] = df[\"host_response_time\"].replace({\n",
    "    \"within an hour\": \"Rápido\",\n",
    "    \"within a few hours\": \"Rápido\",\n",
    "    \"within a day\": \"Lento\",\n",
    "    \"a few days or more\": \"Lento\",\n",
    "    \"SIN INFORMACION\": \"Lento\"\n",
    "})\n",
    "\n",
    "# Verificar que la conversión fue correcta\n",
    "print(df[\"host_response_time\"].value_counts())"
   ]
  },
  {
   "cell_type": "code",
   "execution_count": 10,
   "metadata": {},
   "outputs": [
    {
     "name": "stderr",
     "output_type": "stream",
     "text": [
      "C:\\Users\\angie\\AppData\\Local\\Temp\\ipykernel_16352\\1378006797.py:2: FutureWarning: Downcasting behavior in `replace` is deprecated and will be removed in a future version. To retain the old behavior, explicitly call `result.infer_objects(copy=False)`. To opt-in to the future behavior, set `pd.set_option('future.no_silent_downcasting', True)`\n",
      "  df[\"host_is_superhost\"] = df[\"host_is_superhost\"].replace({\"SIN INFORMACION\": 0})\n"
     ]
    }
   ],
   "source": [
    "df[\"host_is_superhost\"] = df[\"host_is_superhost\"].replace({\"t\": 1, \"f\": 0})\n",
    "df[\"host_is_superhost\"] = df[\"host_is_superhost\"].replace({\"SIN INFORMACION\": 0})"
   ]
  },
  {
   "cell_type": "code",
   "execution_count": 11,
   "metadata": {},
   "outputs": [],
   "source": [
    "vars_indep=df[['host_acceptance_rate', 'host_is_superhost', 'number_of_reviews']]\n",
    "var_dep=df['host_response_time']"
   ]
  },
  {
   "cell_type": "code",
   "execution_count": 12,
   "metadata": {},
   "outputs": [],
   "source": [
    "X=vars_indep\n",
    "y=var_dep"
   ]
  },
  {
   "cell_type": "code",
   "execution_count": 13,
   "metadata": {},
   "outputs": [],
   "source": [
    "X_train, X_test, y_train, y_test = train_test_split(X, y, test_size=0.3, random_state=None)"
   ]
  },
  {
   "cell_type": "code",
   "execution_count": 14,
   "metadata": {},
   "outputs": [],
   "source": [
    "escalar=StandardScaler()"
   ]
  },
  {
   "cell_type": "code",
   "execution_count": 15,
   "metadata": {},
   "outputs": [],
   "source": [
    "X_train = escalar.fit_transform(X_train)\n",
    "X_test = escalar.transform(X_test)"
   ]
  },
  {
   "cell_type": "code",
   "execution_count": 16,
   "metadata": {},
   "outputs": [],
   "source": [
    "from sklearn.linear_model import LogisticRegression\n",
    "algoritmo=LogisticRegression()"
   ]
  },
  {
   "cell_type": "code",
   "execution_count": 17,
   "metadata": {},
   "outputs": [
    {
     "data": {
      "text/html": [
       "<style>#sk-container-id-1 {\n",
       "  /* Definition of color scheme common for light and dark mode */\n",
       "  --sklearn-color-text: black;\n",
       "  --sklearn-color-line: gray;\n",
       "  /* Definition of color scheme for unfitted estimators */\n",
       "  --sklearn-color-unfitted-level-0: #fff5e6;\n",
       "  --sklearn-color-unfitted-level-1: #f6e4d2;\n",
       "  --sklearn-color-unfitted-level-2: #ffe0b3;\n",
       "  --sklearn-color-unfitted-level-3: chocolate;\n",
       "  /* Definition of color scheme for fitted estimators */\n",
       "  --sklearn-color-fitted-level-0: #f0f8ff;\n",
       "  --sklearn-color-fitted-level-1: #d4ebff;\n",
       "  --sklearn-color-fitted-level-2: #b3dbfd;\n",
       "  --sklearn-color-fitted-level-3: cornflowerblue;\n",
       "\n",
       "  /* Specific color for light theme */\n",
       "  --sklearn-color-text-on-default-background: var(--sg-text-color, var(--theme-code-foreground, var(--jp-content-font-color1, black)));\n",
       "  --sklearn-color-background: var(--sg-background-color, var(--theme-background, var(--jp-layout-color0, white)));\n",
       "  --sklearn-color-border-box: var(--sg-text-color, var(--theme-code-foreground, var(--jp-content-font-color1, black)));\n",
       "  --sklearn-color-icon: #696969;\n",
       "\n",
       "  @media (prefers-color-scheme: dark) {\n",
       "    /* Redefinition of color scheme for dark theme */\n",
       "    --sklearn-color-text-on-default-background: var(--sg-text-color, var(--theme-code-foreground, var(--jp-content-font-color1, white)));\n",
       "    --sklearn-color-background: var(--sg-background-color, var(--theme-background, var(--jp-layout-color0, #111)));\n",
       "    --sklearn-color-border-box: var(--sg-text-color, var(--theme-code-foreground, var(--jp-content-font-color1, white)));\n",
       "    --sklearn-color-icon: #878787;\n",
       "  }\n",
       "}\n",
       "\n",
       "#sk-container-id-1 {\n",
       "  color: var(--sklearn-color-text);\n",
       "}\n",
       "\n",
       "#sk-container-id-1 pre {\n",
       "  padding: 0;\n",
       "}\n",
       "\n",
       "#sk-container-id-1 input.sk-hidden--visually {\n",
       "  border: 0;\n",
       "  clip: rect(1px 1px 1px 1px);\n",
       "  clip: rect(1px, 1px, 1px, 1px);\n",
       "  height: 1px;\n",
       "  margin: -1px;\n",
       "  overflow: hidden;\n",
       "  padding: 0;\n",
       "  position: absolute;\n",
       "  width: 1px;\n",
       "}\n",
       "\n",
       "#sk-container-id-1 div.sk-dashed-wrapped {\n",
       "  border: 1px dashed var(--sklearn-color-line);\n",
       "  margin: 0 0.4em 0.5em 0.4em;\n",
       "  box-sizing: border-box;\n",
       "  padding-bottom: 0.4em;\n",
       "  background-color: var(--sklearn-color-background);\n",
       "}\n",
       "\n",
       "#sk-container-id-1 div.sk-container {\n",
       "  /* jupyter's `normalize.less` sets `[hidden] { display: none; }`\n",
       "     but bootstrap.min.css set `[hidden] { display: none !important; }`\n",
       "     so we also need the `!important` here to be able to override the\n",
       "     default hidden behavior on the sphinx rendered scikit-learn.org.\n",
       "     See: https://github.com/scikit-learn/scikit-learn/issues/21755 */\n",
       "  display: inline-block !important;\n",
       "  position: relative;\n",
       "}\n",
       "\n",
       "#sk-container-id-1 div.sk-text-repr-fallback {\n",
       "  display: none;\n",
       "}\n",
       "\n",
       "div.sk-parallel-item,\n",
       "div.sk-serial,\n",
       "div.sk-item {\n",
       "  /* draw centered vertical line to link estimators */\n",
       "  background-image: linear-gradient(var(--sklearn-color-text-on-default-background), var(--sklearn-color-text-on-default-background));\n",
       "  background-size: 2px 100%;\n",
       "  background-repeat: no-repeat;\n",
       "  background-position: center center;\n",
       "}\n",
       "\n",
       "/* Parallel-specific style estimator block */\n",
       "\n",
       "#sk-container-id-1 div.sk-parallel-item::after {\n",
       "  content: \"\";\n",
       "  width: 100%;\n",
       "  border-bottom: 2px solid var(--sklearn-color-text-on-default-background);\n",
       "  flex-grow: 1;\n",
       "}\n",
       "\n",
       "#sk-container-id-1 div.sk-parallel {\n",
       "  display: flex;\n",
       "  align-items: stretch;\n",
       "  justify-content: center;\n",
       "  background-color: var(--sklearn-color-background);\n",
       "  position: relative;\n",
       "}\n",
       "\n",
       "#sk-container-id-1 div.sk-parallel-item {\n",
       "  display: flex;\n",
       "  flex-direction: column;\n",
       "}\n",
       "\n",
       "#sk-container-id-1 div.sk-parallel-item:first-child::after {\n",
       "  align-self: flex-end;\n",
       "  width: 50%;\n",
       "}\n",
       "\n",
       "#sk-container-id-1 div.sk-parallel-item:last-child::after {\n",
       "  align-self: flex-start;\n",
       "  width: 50%;\n",
       "}\n",
       "\n",
       "#sk-container-id-1 div.sk-parallel-item:only-child::after {\n",
       "  width: 0;\n",
       "}\n",
       "\n",
       "/* Serial-specific style estimator block */\n",
       "\n",
       "#sk-container-id-1 div.sk-serial {\n",
       "  display: flex;\n",
       "  flex-direction: column;\n",
       "  align-items: center;\n",
       "  background-color: var(--sklearn-color-background);\n",
       "  padding-right: 1em;\n",
       "  padding-left: 1em;\n",
       "}\n",
       "\n",
       "\n",
       "/* Toggleable style: style used for estimator/Pipeline/ColumnTransformer box that is\n",
       "clickable and can be expanded/collapsed.\n",
       "- Pipeline and ColumnTransformer use this feature and define the default style\n",
       "- Estimators will overwrite some part of the style using the `sk-estimator` class\n",
       "*/\n",
       "\n",
       "/* Pipeline and ColumnTransformer style (default) */\n",
       "\n",
       "#sk-container-id-1 div.sk-toggleable {\n",
       "  /* Default theme specific background. It is overwritten whether we have a\n",
       "  specific estimator or a Pipeline/ColumnTransformer */\n",
       "  background-color: var(--sklearn-color-background);\n",
       "}\n",
       "\n",
       "/* Toggleable label */\n",
       "#sk-container-id-1 label.sk-toggleable__label {\n",
       "  cursor: pointer;\n",
       "  display: block;\n",
       "  width: 100%;\n",
       "  margin-bottom: 0;\n",
       "  padding: 0.5em;\n",
       "  box-sizing: border-box;\n",
       "  text-align: center;\n",
       "}\n",
       "\n",
       "#sk-container-id-1 label.sk-toggleable__label-arrow:before {\n",
       "  /* Arrow on the left of the label */\n",
       "  content: \"▸\";\n",
       "  float: left;\n",
       "  margin-right: 0.25em;\n",
       "  color: var(--sklearn-color-icon);\n",
       "}\n",
       "\n",
       "#sk-container-id-1 label.sk-toggleable__label-arrow:hover:before {\n",
       "  color: var(--sklearn-color-text);\n",
       "}\n",
       "\n",
       "/* Toggleable content - dropdown */\n",
       "\n",
       "#sk-container-id-1 div.sk-toggleable__content {\n",
       "  max-height: 0;\n",
       "  max-width: 0;\n",
       "  overflow: hidden;\n",
       "  text-align: left;\n",
       "  /* unfitted */\n",
       "  background-color: var(--sklearn-color-unfitted-level-0);\n",
       "}\n",
       "\n",
       "#sk-container-id-1 div.sk-toggleable__content.fitted {\n",
       "  /* fitted */\n",
       "  background-color: var(--sklearn-color-fitted-level-0);\n",
       "}\n",
       "\n",
       "#sk-container-id-1 div.sk-toggleable__content pre {\n",
       "  margin: 0.2em;\n",
       "  border-radius: 0.25em;\n",
       "  color: var(--sklearn-color-text);\n",
       "  /* unfitted */\n",
       "  background-color: var(--sklearn-color-unfitted-level-0);\n",
       "}\n",
       "\n",
       "#sk-container-id-1 div.sk-toggleable__content.fitted pre {\n",
       "  /* unfitted */\n",
       "  background-color: var(--sklearn-color-fitted-level-0);\n",
       "}\n",
       "\n",
       "#sk-container-id-1 input.sk-toggleable__control:checked~div.sk-toggleable__content {\n",
       "  /* Expand drop-down */\n",
       "  max-height: 200px;\n",
       "  max-width: 100%;\n",
       "  overflow: auto;\n",
       "}\n",
       "\n",
       "#sk-container-id-1 input.sk-toggleable__control:checked~label.sk-toggleable__label-arrow:before {\n",
       "  content: \"▾\";\n",
       "}\n",
       "\n",
       "/* Pipeline/ColumnTransformer-specific style */\n",
       "\n",
       "#sk-container-id-1 div.sk-label input.sk-toggleable__control:checked~label.sk-toggleable__label {\n",
       "  color: var(--sklearn-color-text);\n",
       "  background-color: var(--sklearn-color-unfitted-level-2);\n",
       "}\n",
       "\n",
       "#sk-container-id-1 div.sk-label.fitted input.sk-toggleable__control:checked~label.sk-toggleable__label {\n",
       "  background-color: var(--sklearn-color-fitted-level-2);\n",
       "}\n",
       "\n",
       "/* Estimator-specific style */\n",
       "\n",
       "/* Colorize estimator box */\n",
       "#sk-container-id-1 div.sk-estimator input.sk-toggleable__control:checked~label.sk-toggleable__label {\n",
       "  /* unfitted */\n",
       "  background-color: var(--sklearn-color-unfitted-level-2);\n",
       "}\n",
       "\n",
       "#sk-container-id-1 div.sk-estimator.fitted input.sk-toggleable__control:checked~label.sk-toggleable__label {\n",
       "  /* fitted */\n",
       "  background-color: var(--sklearn-color-fitted-level-2);\n",
       "}\n",
       "\n",
       "#sk-container-id-1 div.sk-label label.sk-toggleable__label,\n",
       "#sk-container-id-1 div.sk-label label {\n",
       "  /* The background is the default theme color */\n",
       "  color: var(--sklearn-color-text-on-default-background);\n",
       "}\n",
       "\n",
       "/* On hover, darken the color of the background */\n",
       "#sk-container-id-1 div.sk-label:hover label.sk-toggleable__label {\n",
       "  color: var(--sklearn-color-text);\n",
       "  background-color: var(--sklearn-color-unfitted-level-2);\n",
       "}\n",
       "\n",
       "/* Label box, darken color on hover, fitted */\n",
       "#sk-container-id-1 div.sk-label.fitted:hover label.sk-toggleable__label.fitted {\n",
       "  color: var(--sklearn-color-text);\n",
       "  background-color: var(--sklearn-color-fitted-level-2);\n",
       "}\n",
       "\n",
       "/* Estimator label */\n",
       "\n",
       "#sk-container-id-1 div.sk-label label {\n",
       "  font-family: monospace;\n",
       "  font-weight: bold;\n",
       "  display: inline-block;\n",
       "  line-height: 1.2em;\n",
       "}\n",
       "\n",
       "#sk-container-id-1 div.sk-label-container {\n",
       "  text-align: center;\n",
       "}\n",
       "\n",
       "/* Estimator-specific */\n",
       "#sk-container-id-1 div.sk-estimator {\n",
       "  font-family: monospace;\n",
       "  border: 1px dotted var(--sklearn-color-border-box);\n",
       "  border-radius: 0.25em;\n",
       "  box-sizing: border-box;\n",
       "  margin-bottom: 0.5em;\n",
       "  /* unfitted */\n",
       "  background-color: var(--sklearn-color-unfitted-level-0);\n",
       "}\n",
       "\n",
       "#sk-container-id-1 div.sk-estimator.fitted {\n",
       "  /* fitted */\n",
       "  background-color: var(--sklearn-color-fitted-level-0);\n",
       "}\n",
       "\n",
       "/* on hover */\n",
       "#sk-container-id-1 div.sk-estimator:hover {\n",
       "  /* unfitted */\n",
       "  background-color: var(--sklearn-color-unfitted-level-2);\n",
       "}\n",
       "\n",
       "#sk-container-id-1 div.sk-estimator.fitted:hover {\n",
       "  /* fitted */\n",
       "  background-color: var(--sklearn-color-fitted-level-2);\n",
       "}\n",
       "\n",
       "/* Specification for estimator info (e.g. \"i\" and \"?\") */\n",
       "\n",
       "/* Common style for \"i\" and \"?\" */\n",
       "\n",
       ".sk-estimator-doc-link,\n",
       "a:link.sk-estimator-doc-link,\n",
       "a:visited.sk-estimator-doc-link {\n",
       "  float: right;\n",
       "  font-size: smaller;\n",
       "  line-height: 1em;\n",
       "  font-family: monospace;\n",
       "  background-color: var(--sklearn-color-background);\n",
       "  border-radius: 1em;\n",
       "  height: 1em;\n",
       "  width: 1em;\n",
       "  text-decoration: none !important;\n",
       "  margin-left: 1ex;\n",
       "  /* unfitted */\n",
       "  border: var(--sklearn-color-unfitted-level-1) 1pt solid;\n",
       "  color: var(--sklearn-color-unfitted-level-1);\n",
       "}\n",
       "\n",
       ".sk-estimator-doc-link.fitted,\n",
       "a:link.sk-estimator-doc-link.fitted,\n",
       "a:visited.sk-estimator-doc-link.fitted {\n",
       "  /* fitted */\n",
       "  border: var(--sklearn-color-fitted-level-1) 1pt solid;\n",
       "  color: var(--sklearn-color-fitted-level-1);\n",
       "}\n",
       "\n",
       "/* On hover */\n",
       "div.sk-estimator:hover .sk-estimator-doc-link:hover,\n",
       ".sk-estimator-doc-link:hover,\n",
       "div.sk-label-container:hover .sk-estimator-doc-link:hover,\n",
       ".sk-estimator-doc-link:hover {\n",
       "  /* unfitted */\n",
       "  background-color: var(--sklearn-color-unfitted-level-3);\n",
       "  color: var(--sklearn-color-background);\n",
       "  text-decoration: none;\n",
       "}\n",
       "\n",
       "div.sk-estimator.fitted:hover .sk-estimator-doc-link.fitted:hover,\n",
       ".sk-estimator-doc-link.fitted:hover,\n",
       "div.sk-label-container:hover .sk-estimator-doc-link.fitted:hover,\n",
       ".sk-estimator-doc-link.fitted:hover {\n",
       "  /* fitted */\n",
       "  background-color: var(--sklearn-color-fitted-level-3);\n",
       "  color: var(--sklearn-color-background);\n",
       "  text-decoration: none;\n",
       "}\n",
       "\n",
       "/* Span, style for the box shown on hovering the info icon */\n",
       ".sk-estimator-doc-link span {\n",
       "  display: none;\n",
       "  z-index: 9999;\n",
       "  position: relative;\n",
       "  font-weight: normal;\n",
       "  right: .2ex;\n",
       "  padding: .5ex;\n",
       "  margin: .5ex;\n",
       "  width: min-content;\n",
       "  min-width: 20ex;\n",
       "  max-width: 50ex;\n",
       "  color: var(--sklearn-color-text);\n",
       "  box-shadow: 2pt 2pt 4pt #999;\n",
       "  /* unfitted */\n",
       "  background: var(--sklearn-color-unfitted-level-0);\n",
       "  border: .5pt solid var(--sklearn-color-unfitted-level-3);\n",
       "}\n",
       "\n",
       ".sk-estimator-doc-link.fitted span {\n",
       "  /* fitted */\n",
       "  background: var(--sklearn-color-fitted-level-0);\n",
       "  border: var(--sklearn-color-fitted-level-3);\n",
       "}\n",
       "\n",
       ".sk-estimator-doc-link:hover span {\n",
       "  display: block;\n",
       "}\n",
       "\n",
       "/* \"?\"-specific style due to the `<a>` HTML tag */\n",
       "\n",
       "#sk-container-id-1 a.estimator_doc_link {\n",
       "  float: right;\n",
       "  font-size: 1rem;\n",
       "  line-height: 1em;\n",
       "  font-family: monospace;\n",
       "  background-color: var(--sklearn-color-background);\n",
       "  border-radius: 1rem;\n",
       "  height: 1rem;\n",
       "  width: 1rem;\n",
       "  text-decoration: none;\n",
       "  /* unfitted */\n",
       "  color: var(--sklearn-color-unfitted-level-1);\n",
       "  border: var(--sklearn-color-unfitted-level-1) 1pt solid;\n",
       "}\n",
       "\n",
       "#sk-container-id-1 a.estimator_doc_link.fitted {\n",
       "  /* fitted */\n",
       "  border: var(--sklearn-color-fitted-level-1) 1pt solid;\n",
       "  color: var(--sklearn-color-fitted-level-1);\n",
       "}\n",
       "\n",
       "/* On hover */\n",
       "#sk-container-id-1 a.estimator_doc_link:hover {\n",
       "  /* unfitted */\n",
       "  background-color: var(--sklearn-color-unfitted-level-3);\n",
       "  color: var(--sklearn-color-background);\n",
       "  text-decoration: none;\n",
       "}\n",
       "\n",
       "#sk-container-id-1 a.estimator_doc_link.fitted:hover {\n",
       "  /* fitted */\n",
       "  background-color: var(--sklearn-color-fitted-level-3);\n",
       "}\n",
       "</style><div id=\"sk-container-id-1\" class=\"sk-top-container\"><div class=\"sk-text-repr-fallback\"><pre>LogisticRegression()</pre><b>In a Jupyter environment, please rerun this cell to show the HTML representation or trust the notebook. <br />On GitHub, the HTML representation is unable to render, please try loading this page with nbviewer.org.</b></div><div class=\"sk-container\" hidden><div class=\"sk-item\"><div class=\"sk-estimator fitted sk-toggleable\"><input class=\"sk-toggleable__control sk-hidden--visually\" id=\"sk-estimator-id-1\" type=\"checkbox\" checked><label for=\"sk-estimator-id-1\" class=\"sk-toggleable__label fitted sk-toggleable__label-arrow fitted\">&nbsp;&nbsp;LogisticRegression<a class=\"sk-estimator-doc-link fitted\" rel=\"noreferrer\" target=\"_blank\" href=\"https://scikit-learn.org/1.4/modules/generated/sklearn.linear_model.LogisticRegression.html\">?<span>Documentation for LogisticRegression</span></a><span class=\"sk-estimator-doc-link fitted\">i<span>Fitted</span></span></label><div class=\"sk-toggleable__content fitted\"><pre>LogisticRegression()</pre></div> </div></div></div></div>"
      ],
      "text/plain": [
       "LogisticRegression()"
      ]
     },
     "execution_count": 17,
     "metadata": {},
     "output_type": "execute_result"
    }
   ],
   "source": [
    "algoritmo.fit(X_train, y_train)"
   ]
  },
  {
   "cell_type": "code",
   "execution_count": 18,
   "metadata": {},
   "outputs": [
    {
     "data": {
      "text/plain": [
       "array(['Rápido', 'Lento', 'Rápido', ..., 'Rápido', 'Rápido', 'Rápido'],\n",
       "      dtype=object)"
      ]
     },
     "execution_count": 18,
     "metadata": {},
     "output_type": "execute_result"
    }
   ],
   "source": [
    "y_pred=algoritmo.predict(X_test)\n",
    "y_pred"
   ]
  },
  {
   "cell_type": "code",
   "execution_count": 19,
   "metadata": {},
   "outputs": [
    {
     "name": "stdout",
     "output_type": "stream",
     "text": [
      "Matriz de confusion:\n",
      "[[ 418 3039]\n",
      " [ 663 6971]]\n"
     ]
    }
   ],
   "source": [
    "from sklearn.metrics import confusion_matrix\n",
    "matriz=confusion_matrix(y_test, y_pred)\n",
    "print('Matriz de confusion:')\n",
    "print(matriz)"
   ]
  },
  {
   "cell_type": "code",
   "execution_count": 23,
   "metadata": {},
   "outputs": [
    {
     "name": "stdout",
     "output_type": "stream",
     "text": [
      "Precision del modelo:\n",
      "0.6964035964035964\n"
     ]
    }
   ],
   "source": [
    "from sklearn.metrics import precision_score\n",
    "\n",
    "precision=precision_score(y_test, y_pred, average=\"binary\", pos_label=\"Rápido\")\n",
    "print('Precision del modelo:')\n",
    "print(precision)"
   ]
  },
  {
   "cell_type": "code",
   "execution_count": 24,
   "metadata": {},
   "outputs": [
    {
     "name": "stdout",
     "output_type": "stream",
     "text": [
      "Exactitud del modelo:\n",
      "0.6662158506897484\n"
     ]
    }
   ],
   "source": [
    "from sklearn.metrics import accuracy_score\n",
    "\n",
    "exactitud=accuracy_score(y_test, y_pred)\n",
    "print('Exactitud del modelo:')\n",
    "print(exactitud)"
   ]
  },
  {
   "cell_type": "code",
   "execution_count": 26,
   "metadata": {},
   "outputs": [
    {
     "name": "stdout",
     "output_type": "stream",
     "text": [
      "Sensibilidad del modelo:\n",
      "0.9131516898087503\n"
     ]
    }
   ],
   "source": [
    "from sklearn.metrics import recall_score\n",
    "\n",
    "sensibilidad=recall_score(y_test, y_pred, average=\"binary\", pos_label=\"Rápido\")\n",
    "print('Sensibilidad del modelo:')\n",
    "print(sensibilidad)"
   ]
  },
  {
   "cell_type": "code",
   "execution_count": 30,
   "metadata": {},
   "outputs": [],
   "source": [
    "df[\"host_is_superhost\"] = df[\"host_is_superhost\"].replace({1:\"t\", 0:\"f\"})"
   ]
  },
  {
   "cell_type": "code",
   "execution_count": 31,
   "metadata": {},
   "outputs": [],
   "source": [
    "vars_indep=df[['host_response_rate', 'host_acceptance_rate', 'host_total_listings_count']]\n",
    "var_dep=df['host_is_superhost']\n",
    "\n",
    "X=vars_indep\n",
    "y=var_dep"
   ]
  },
  {
   "cell_type": "code",
   "execution_count": 32,
   "metadata": {},
   "outputs": [
    {
     "data": {
      "text/plain": [
       "array(['f', 'f', 'f', ..., 'f', 'f', 'f'], dtype=object)"
      ]
     },
     "execution_count": 32,
     "metadata": {},
     "output_type": "execute_result"
    }
   ],
   "source": [
    "X_train, X_test, y_train, y_test = train_test_split(X, y, test_size=0.3, random_state=None)\n",
    "escalar=StandardScaler()\n",
    "X_train = escalar.fit_transform(X_train)\n",
    "X_test = escalar.transform(X_test)\n",
    "from sklearn.linear_model import LogisticRegression\n",
    "algoritmo=LogisticRegression()\n",
    "algoritmo.fit(X_train, y_train)\n",
    "y_pred=algoritmo.predict(X_test)\n",
    "y_pred"
   ]
  },
  {
   "cell_type": "code",
   "execution_count": null,
   "metadata": {},
   "outputs": [
    {
     "name": "stdout",
     "output_type": "stream",
     "text": [
      "Matriz de confusion:\n",
      "[[7475  265]\n",
      " [3014  337]]\n"
     ]
    }
   ],
   "source": [
    "from sklearn.metrics import confusion_matrix\n",
    "matriz=confusion_matrix(y_test, y_pred)\n",
    "print('Matriz de confusion:')\n",
    "print(matriz)"
   ]
  },
  {
   "cell_type": "code",
   "execution_count": 35,
   "metadata": {},
   "outputs": [
    {
     "name": "stdout",
     "output_type": "stream",
     "text": [
      "Precision del modelo:\n",
      "0.7126513490323195\n"
     ]
    }
   ],
   "source": [
    "from sklearn.metrics import precision_score\n",
    "\n",
    "precision=precision_score(y_test, y_pred, average=\"binary\", pos_label=\"f\")\n",
    "print('Precision del modelo:')\n",
    "print(precision)"
   ]
  },
  {
   "cell_type": "code",
   "execution_count": 36,
   "metadata": {},
   "outputs": [
    {
     "name": "stdout",
     "output_type": "stream",
     "text": [
      "Exactitud del modelo:\n",
      "0.70435488233703\n"
     ]
    }
   ],
   "source": [
    "from sklearn.metrics import accuracy_score\n",
    "\n",
    "exactitud=accuracy_score(y_test, y_pred)\n",
    "print('Exactitud del modelo:')\n",
    "print(exactitud)"
   ]
  },
  {
   "cell_type": "code",
   "execution_count": 37,
   "metadata": {},
   "outputs": [
    {
     "name": "stdout",
     "output_type": "stream",
     "text": [
      "Sensibilidad del modelo:\n",
      "0.9657622739018088\n"
     ]
    }
   ],
   "source": [
    "from sklearn.metrics import recall_score\n",
    "\n",
    "sensibilidad=recall_score(y_test, y_pred, average=\"binary\", pos_label=\"f\")\n",
    "print('Sensibilidad del modelo:')\n",
    "print(sensibilidad)"
   ]
  },
  {
   "cell_type": "code",
   "execution_count": 39,
   "metadata": {},
   "outputs": [
    {
     "name": "stderr",
     "output_type": "stream",
     "text": [
      "C:\\Users\\angie\\AppData\\Local\\Temp\\ipykernel_16352\\1760127900.py:1: FutureWarning: Downcasting behavior in `replace` is deprecated and will be removed in a future version. To retain the old behavior, explicitly call `result.infer_objects(copy=False)`. To opt-in to the future behavior, set `pd.set_option('future.no_silent_downcasting', True)`\n",
      "  df[\"room_type\"] = df[\"room_type\"].replace({\"Entire home/apt\": 0, \"Private room\": 1, \"Hotel room\":2, \"Shared room\":3})\n"
     ]
    }
   ],
   "source": [
    "df[\"room_type\"] = df[\"room_type\"].replace({\"Entire home/apt\": 0, \"Private room\": 1, \"Hotel room\":2, \"Shared room\":3})"
   ]
  },
  {
   "cell_type": "code",
   "execution_count": 40,
   "metadata": {},
   "outputs": [
    {
     "name": "stdout",
     "output_type": "stream",
     "text": [
      "beds\n",
      "De 0 a 3 camas    31669\n",
      "De 4 a 6 camas     5298\n",
      "Name: count, dtype: int64\n"
     ]
    }
   ],
   "source": [
    "df[\"beds\"] = df[\"beds\"].replace({\n",
    "    0: \"De 0 a 3 camas\",\n",
    "    1: \"De 0 a 3 camas\",\n",
    "    2: \"De 0 a 3 camas\",\n",
    "    2.1: \"De 0 a 3 camas\",\n",
    "    3: \"De 0 a 3 camas\",\n",
    "    4: \"De 4 a 6 camas\",\n",
    "    5: \"De 4 a 6 camas\",\n",
    "    6: \"De 4 a 6 camas\"\n",
    "\n",
    "})\n",
    "\n",
    "# Verificar que la conversión fue correcta\n",
    "print(df[\"beds\"].value_counts())"
   ]
  },
  {
   "cell_type": "code",
   "execution_count": 42,
   "metadata": {},
   "outputs": [],
   "source": [
    "vars_indep=df[['accommodates', 'bedrooms', 'room_type']]\n",
    "var_dep=df['beds']\n",
    "\n",
    "X=vars_indep\n",
    "y=var_dep"
   ]
  },
  {
   "cell_type": "code",
   "execution_count": 43,
   "metadata": {},
   "outputs": [
    {
     "data": {
      "text/plain": [
       "array(['De 0 a 3 camas', 'De 0 a 3 camas', 'De 0 a 3 camas', ...,\n",
       "       'De 0 a 3 camas', 'De 0 a 3 camas', 'De 0 a 3 camas'], dtype=object)"
      ]
     },
     "execution_count": 43,
     "metadata": {},
     "output_type": "execute_result"
    }
   ],
   "source": [
    "X_train, X_test, y_train, y_test = train_test_split(X, y, test_size=0.3, random_state=None)\n",
    "escalar=StandardScaler()\n",
    "X_train = escalar.fit_transform(X_train)\n",
    "X_test = escalar.transform(X_test)\n",
    "from sklearn.linear_model import LogisticRegression\n",
    "algoritmo=LogisticRegression()\n",
    "algoritmo.fit(X_train, y_train)\n",
    "y_pred=algoritmo.predict(X_test)\n",
    "y_pred"
   ]
  },
  {
   "cell_type": "code",
   "execution_count": 44,
   "metadata": {},
   "outputs": [
    {
     "name": "stdout",
     "output_type": "stream",
     "text": [
      "Matriz de confusion:\n",
      "[[9248  216]\n",
      " [1282  345]]\n"
     ]
    }
   ],
   "source": [
    "from sklearn.metrics import confusion_matrix\n",
    "matriz=confusion_matrix(y_test, y_pred)\n",
    "print('Matriz de confusion:')\n",
    "print(matriz)"
   ]
  },
  {
   "cell_type": "code",
   "execution_count": 46,
   "metadata": {},
   "outputs": [
    {
     "name": "stdout",
     "output_type": "stream",
     "text": [
      "Precision del modelo:\n",
      "0.8782526115859449\n"
     ]
    }
   ],
   "source": [
    "from sklearn.metrics import precision_score\n",
    "\n",
    "precision=precision_score(y_test, y_pred, average=\"binary\", pos_label=\"De 0 a 3 camas\")\n",
    "print('Precision del modelo:')\n",
    "print(precision)"
   ]
  },
  {
   "cell_type": "code",
   "execution_count": 47,
   "metadata": {},
   "outputs": [
    {
     "name": "stdout",
     "output_type": "stream",
     "text": [
      "Exactitud del modelo:\n",
      "0.8649355333153007\n"
     ]
    }
   ],
   "source": [
    "from sklearn.metrics import accuracy_score\n",
    "\n",
    "exactitud=accuracy_score(y_test, y_pred)\n",
    "print('Exactitud del modelo:')\n",
    "print(exactitud)"
   ]
  },
  {
   "cell_type": "code",
   "execution_count": 48,
   "metadata": {},
   "outputs": [
    {
     "name": "stdout",
     "output_type": "stream",
     "text": [
      "Sensibilidad del modelo:\n",
      "0.9771766694843618\n"
     ]
    }
   ],
   "source": [
    "from sklearn.metrics import recall_score\n",
    "\n",
    "sensibilidad=recall_score(y_test, y_pred, average=\"binary\", pos_label=\"De 0 a 3 camas\")\n",
    "print('Sensibilidad del modelo:')\n",
    "print(sensibilidad)"
   ]
  },
  {
   "cell_type": "code",
   "execution_count": 49,
   "metadata": {},
   "outputs": [
    {
     "name": "stderr",
     "output_type": "stream",
     "text": [
      "C:\\Users\\angie\\AppData\\Local\\Temp\\ipykernel_16352\\1819986426.py:1: FutureWarning: Downcasting behavior in `replace` is deprecated and will be removed in a future version. To retain the old behavior, explicitly call `result.infer_objects(copy=False)`. To opt-in to the future behavior, set `pd.set_option('future.no_silent_downcasting', True)`\n",
      "  df[\"host_is_superhost\"] = df[\"host_is_superhost\"].replace({\"t\": 1, \"f\": 0})\n",
      "C:\\Users\\angie\\AppData\\Local\\Temp\\ipykernel_16352\\1819986426.py:2: FutureWarning: Downcasting behavior in `replace` is deprecated and will be removed in a future version. To retain the old behavior, explicitly call `result.infer_objects(copy=False)`. To opt-in to the future behavior, set `pd.set_option('future.no_silent_downcasting', True)`\n",
      "  df[\"host_verifications\"] = df[\"host_verifications\"].replace({\n"
     ]
    }
   ],
   "source": [
    "df[\"host_is_superhost\"] = df[\"host_is_superhost\"].replace({\"t\": 1, \"f\": 0})\n",
    "df[\"host_verifications\"] = df[\"host_verifications\"].replace({\n",
    "    \"[]\": 0, \n",
    "    \"['phone']\": 1, \n",
    "    \"['email']\": 2, \n",
    "    \"['phone', 'work_email']\": 3,\n",
    "    \"['email', 'work_email']\": 4,\n",
    "    \"['email', 'phone']\": 5,\n",
    "    \"['email', 'phone', 'work_email']\": 6\n",
    "})"
   ]
  },
  {
   "cell_type": "code",
   "execution_count": 50,
   "metadata": {},
   "outputs": [],
   "source": [
    "vars_indep=df[['host_listings_count', 'host_verifications', 'host_is_superhost']]\n",
    "var_dep=df['host_has_profile_pic']\n",
    "\n",
    "X=vars_indep\n",
    "y=var_dep"
   ]
  },
  {
   "cell_type": "code",
   "execution_count": 51,
   "metadata": {},
   "outputs": [
    {
     "data": {
      "text/plain": [
       "array(['t', 't', 't', ..., 't', 't', 't'], dtype=object)"
      ]
     },
     "execution_count": 51,
     "metadata": {},
     "output_type": "execute_result"
    }
   ],
   "source": [
    "X_train, X_test, y_train, y_test = train_test_split(X, y, test_size=0.3, random_state=None)\n",
    "escalar=StandardScaler()\n",
    "X_train = escalar.fit_transform(X_train)\n",
    "X_test = escalar.transform(X_test)\n",
    "from sklearn.linear_model import LogisticRegression\n",
    "algoritmo=LogisticRegression()\n",
    "algoritmo.fit(X_train, y_train)\n",
    "y_pred=algoritmo.predict(X_test)\n",
    "y_pred"
   ]
  },
  {
   "cell_type": "code",
   "execution_count": 52,
   "metadata": {},
   "outputs": [
    {
     "name": "stdout",
     "output_type": "stream",
     "text": [
      "Matriz de confusion:\n",
      "[[    0   349]\n",
      " [    0 10742]]\n"
     ]
    }
   ],
   "source": [
    "from sklearn.metrics import confusion_matrix\n",
    "matriz=confusion_matrix(y_test, y_pred)\n",
    "print('Matriz de confusion:')\n",
    "print(matriz)"
   ]
  },
  {
   "cell_type": "code",
   "execution_count": 55,
   "metadata": {},
   "outputs": [
    {
     "name": "stdout",
     "output_type": "stream",
     "text": [
      "Precision del modelo:\n",
      "0.9685330448111081\n"
     ]
    }
   ],
   "source": [
    "from sklearn.metrics import precision_score\n",
    "\n",
    "precision=precision_score(y_test, y_pred, average=\"binary\", pos_label=\"t\")\n",
    "print('Precision del modelo:')\n",
    "print(precision)"
   ]
  },
  {
   "cell_type": "code",
   "execution_count": 56,
   "metadata": {},
   "outputs": [
    {
     "name": "stdout",
     "output_type": "stream",
     "text": [
      "Exactitud del modelo:\n",
      "0.9685330448111081\n"
     ]
    }
   ],
   "source": [
    "from sklearn.metrics import accuracy_score\n",
    "\n",
    "exactitud=accuracy_score(y_test, y_pred)\n",
    "print('Exactitud del modelo:')\n",
    "print(exactitud)"
   ]
  },
  {
   "cell_type": "code",
   "execution_count": 58,
   "metadata": {},
   "outputs": [
    {
     "name": "stdout",
     "output_type": "stream",
     "text": [
      "Sensibilidad del modelo:\n",
      "1.0\n"
     ]
    }
   ],
   "source": [
    "from sklearn.metrics import recall_score\n",
    "\n",
    "sensibilidad=recall_score(y_test, y_pred, average=\"binary\", pos_label=\"t\")\n",
    "print('Sensibilidad del modelo:')\n",
    "print(sensibilidad)"
   ]
  },
  {
   "cell_type": "code",
   "execution_count": 59,
   "metadata": {},
   "outputs": [],
   "source": [
    "vars_indep=df[['host_is_superhost', 'review_scores_communication', 'review_scores_rating']]\n",
    "var_dep=df['host_identity_verified']\n",
    "\n",
    "X=vars_indep\n",
    "y=var_dep"
   ]
  },
  {
   "cell_type": "code",
   "execution_count": 60,
   "metadata": {},
   "outputs": [
    {
     "data": {
      "text/plain": [
       "array(['t', 't', 't', ..., 't', 't', 't'], dtype=object)"
      ]
     },
     "execution_count": 60,
     "metadata": {},
     "output_type": "execute_result"
    }
   ],
   "source": [
    "X_train, X_test, y_train, y_test = train_test_split(X, y, test_size=0.3, random_state=None)\n",
    "escalar=StandardScaler()\n",
    "X_train = escalar.fit_transform(X_train)\n",
    "X_test = escalar.transform(X_test)\n",
    "from sklearn.linear_model import LogisticRegression\n",
    "algoritmo=LogisticRegression()\n",
    "algoritmo.fit(X_train, y_train)\n",
    "y_pred=algoritmo.predict(X_test)\n",
    "y_pred"
   ]
  },
  {
   "cell_type": "code",
   "execution_count": 61,
   "metadata": {},
   "outputs": [
    {
     "name": "stdout",
     "output_type": "stream",
     "text": [
      "Matriz de confusion:\n",
      "[[   0 1815]\n",
      " [   0 9276]]\n"
     ]
    }
   ],
   "source": [
    "from sklearn.metrics import confusion_matrix\n",
    "matriz=confusion_matrix(y_test, y_pred)\n",
    "print('Matriz de confusion:')\n",
    "print(matriz)"
   ]
  },
  {
   "cell_type": "code",
   "execution_count": 63,
   "metadata": {},
   "outputs": [
    {
     "name": "stdout",
     "output_type": "stream",
     "text": [
      "Precision del modelo:\n",
      "0.8363538003786855\n"
     ]
    }
   ],
   "source": [
    "from sklearn.metrics import precision_score\n",
    "\n",
    "precision=precision_score(y_test, y_pred, average=\"binary\", pos_label=\"t\")\n",
    "print('Precision del modelo:')\n",
    "print(precision)"
   ]
  },
  {
   "cell_type": "code",
   "execution_count": 64,
   "metadata": {},
   "outputs": [
    {
     "name": "stdout",
     "output_type": "stream",
     "text": [
      "Exactitud del modelo:\n",
      "0.8363538003786855\n"
     ]
    }
   ],
   "source": [
    "from sklearn.metrics import accuracy_score\n",
    "\n",
    "exactitud=accuracy_score(y_test, y_pred)\n",
    "print('Exactitud del modelo:')\n",
    "print(exactitud)"
   ]
  },
  {
   "cell_type": "code",
   "execution_count": 65,
   "metadata": {},
   "outputs": [
    {
     "name": "stdout",
     "output_type": "stream",
     "text": [
      "Sensibilidad del modelo:\n",
      "1.0\n"
     ]
    }
   ],
   "source": [
    "from sklearn.metrics import recall_score\n",
    "\n",
    "sensibilidad=recall_score(y_test, y_pred, average=\"binary\", pos_label=\"t\")\n",
    "print('Sensibilidad del modelo:')\n",
    "print(sensibilidad)"
   ]
  },
  {
   "cell_type": "code",
   "execution_count": 3,
   "metadata": {},
   "outputs": [
    {
     "name": "stderr",
     "output_type": "stream",
     "text": [
      "C:\\Users\\angie\\AppData\\Local\\Temp\\ipykernel_3896\\524212660.py:1: FutureWarning: Downcasting behavior in `replace` is deprecated and will be removed in a future version. To retain the old behavior, explicitly call `result.infer_objects(copy=False)`. To opt-in to the future behavior, set `pd.set_option('future.no_silent_downcasting', True)`\n",
      "  df[\"property_type\"] = df[\"property_type\"].replace({\n"
     ]
    }
   ],
   "source": [
    "df[\"property_type\"] = df[\"property_type\"].replace({\n",
    "    \"Private room in home\": 1,\n",
    "    \"Entire rental unit\": 2,\n",
    "    \"Entire condo\": 3,\n",
    "    \"Entire loft\": 4,\n",
    "    \"Entire home\": 5,\n",
    "    \"Private room in rental unit\": 6,\n",
    "    \"Private room in townhouse\": 7,\n",
    "    \"Private room in bed and breakfast\": 8,\n",
    "    \"Private room in condo\": 9,\n",
    "    \"Entire guesthouse\": 10,\n",
    "    \"Earthen home\": 11,\n",
    "    \"Entire townhouse\": 12,\n",
    "    \"Shared room in rental unit\": 13,\n",
    "    \"Entire guest suite\": 14,\n",
    "    \"Entire serviced apartment\": 15,\n",
    "    \"Private room in treehouse\": 16,\n",
    "    \"Private room in guesthouse\": 17,\n",
    "    \"Private room in hostel\": 18,\n",
    "    \"Entire bungalow\": 19,\n",
    "    \"Room in boutique hotel\": 20,\n",
    "    \"Private room in earthen home\": 21,\n",
    "    \"Shared room in home\": 22,\n",
    "    \"Entire chalet\": 23,\n",
    "    \"Entire cottage\": 24,\n",
    "    \"Entire place\": 25,\n",
    "    \"Private room in serviced apartment\": 26,\n",
    "    \"Room in aparthotel\": 27,\n",
    "    \"Treehouse\": 28,\n",
    "    \"Shared room in townhouse\": 29,\n",
    "    \"Entire villa\": 30,\n",
    "    \"Room in serviced apartment\": 31,\n",
    "    \"Ranch\": 32,\n",
    "    \"Entire vacation home\": 33,\n",
    "    \"Private room in casa particular\": 34,\n",
    "    \"Private room in villa\": 35,\n",
    "    \"Shared room in bed and breakfast\": 36,\n",
    "    \"Shared room\": 37,\n",
    "    \"Private room in tiny home\": 38,\n",
    "    \"Private room\": 39,\n",
    "    \"Private room in loft\": 40,\n",
    "    \"Shared room in condo\": 41,\n",
    "    \"Boat\": 42,\n",
    "    \"Tiny home\": 43,\n",
    "    \"Private room in guest suite\": 44,\n",
    "    \"Shared room in guesthouse\": 45,\n",
    "    \"Room in bed and breakfast\": 46,\n",
    "    \"Room in hostel\": 47,\n",
    "    \"Farm stay\": 48,\n",
    "    \"Entire bed and breakfast\": 49,\n",
    "    \"Entire cabin\": 50,\n",
    "    \"Private room in castle\": 51,\n",
    "    \"Casa particular\": 52,\n",
    "    \"Shared room in loft\": 53,\n",
    "    \"Shared room in hostel\": 54,\n",
    "    \"Private room in floor\": 55,\n",
    "    \"Room in hotel\": 56,\n",
    "    \"Private room in bungalow\": 57,\n",
    "    \"Private room in farm stay\": 58,\n",
    "    \"Private room in chalet\": 59,\n",
    "    \"Shared room in serviced apartment\": 60,\n",
    "    \"Private room in boat\": 61,\n",
    "    \"Shared room in casa particular\": 62,\n",
    "    \"Hut\": 63,\n",
    "    \"Shared room in guest suite\": 64,\n",
    "    \"Camper/RV\": 65,\n",
    "    \"Shared room in earthen home\": 66,\n",
    "    \"Dome\": 67,\n",
    "    \"Private room in nature lodge\": 68,\n",
    "    \"Shared room in tiny home\": 69,\n",
    "    \"Private room in cottage\": 70,\n",
    "    \"Shared room in vacation home\": 71,\n",
    "    \"Private room in resort\": 72,\n",
    "    \"Campsite\": 73,\n",
    "    \"Shared room in hotel\": 74,\n",
    "    \"Private room in vacation home\": 75,\n",
    "    \"Shared room in tent\": 76,\n",
    "    \"Shared room in nature lodge\": 77,\n",
    "    \"Castle\": 78,\n",
    "    \"Private room in tent\": 79,\n",
    "    \"Shipping container\": 80,\n",
    "    \"Private room in tower\": 81,\n",
    "    \"Houseboat\": 82\n",
    "})\n"
   ]
  },
  {
   "cell_type": "code",
   "execution_count": 5,
   "metadata": {},
   "outputs": [
    {
     "name": "stdout",
     "output_type": "stream",
     "text": [
      "room_type\n",
      "Entire home/apt       29079\n",
      "No Entire home/apt     7888\n",
      "Name: count, dtype: int64\n"
     ]
    }
   ],
   "source": [
    "df[\"room_type\"] = df[\"room_type\"].replace({\n",
    "    \"Entire home/apt\":\"Entire home/apt \",\n",
    "    \"Private room\":\"No Entire home/apt\",\n",
    "    \"Shared room\":\"No Entire home/apt\",\n",
    "    \"Hotel room\":\"No Entire home/apt\"\n",
    "})\n",
    "\n",
    "print(df[\"room_type\"].value_counts())"
   ]
  },
  {
   "cell_type": "code",
   "execution_count": 6,
   "metadata": {},
   "outputs": [],
   "source": [
    "vars_indep=df[['property_type', 'accommodates', 'price']]\n",
    "var_dep=df['room_type']\n",
    "\n",
    "X=vars_indep\n",
    "y=var_dep"
   ]
  },
  {
   "cell_type": "code",
   "execution_count": 7,
   "metadata": {},
   "outputs": [
    {
     "data": {
      "text/plain": [
       "array(['No Entire home/apt', 'Entire home/apt ', 'Entire home/apt ', ...,\n",
       "       'Entire home/apt ', 'No Entire home/apt', 'Entire home/apt '],\n",
       "      dtype=object)"
      ]
     },
     "execution_count": 7,
     "metadata": {},
     "output_type": "execute_result"
    }
   ],
   "source": [
    "X_train, X_test, y_train, y_test = train_test_split(X, y, test_size=0.3, random_state=None)\n",
    "escalar=StandardScaler()\n",
    "X_train = escalar.fit_transform(X_train)\n",
    "X_test = escalar.transform(X_test)\n",
    "from sklearn.linear_model import LogisticRegression\n",
    "algoritmo=LogisticRegression()\n",
    "algoritmo.fit(X_train, y_train)\n",
    "y_pred=algoritmo.predict(X_test)\n",
    "y_pred"
   ]
  },
  {
   "cell_type": "code",
   "execution_count": 8,
   "metadata": {},
   "outputs": [
    {
     "name": "stdout",
     "output_type": "stream",
     "text": [
      "Matriz de confusion:\n",
      "[[8437  275]\n",
      " [1149 1230]]\n"
     ]
    }
   ],
   "source": [
    "from sklearn.metrics import confusion_matrix\n",
    "matriz=confusion_matrix(y_test, y_pred)\n",
    "print('Matriz de confusion:')\n",
    "print(matriz)"
   ]
  },
  {
   "cell_type": "code",
   "execution_count": 11,
   "metadata": {},
   "outputs": [
    {
     "name": "stdout",
     "output_type": "stream",
     "text": [
      "Precision del modelo:\n",
      "0.8172757475083057\n"
     ]
    }
   ],
   "source": [
    "from sklearn.metrics import precision_score\n",
    "\n",
    "precision=precision_score(y_test, y_pred, average=\"binary\", pos_label=\"No Entire home/apt\")\n",
    "print('Precision del modelo:')\n",
    "print(precision)"
   ]
  },
  {
   "cell_type": "code",
   "execution_count": 12,
   "metadata": {},
   "outputs": [
    {
     "name": "stdout",
     "output_type": "stream",
     "text": [
      "Exactitud del modelo:\n",
      "0.8716076097736903\n"
     ]
    }
   ],
   "source": [
    "from sklearn.metrics import accuracy_score\n",
    "\n",
    "exactitud=accuracy_score(y_test, y_pred)\n",
    "print('Exactitud del modelo:')\n",
    "print(exactitud)"
   ]
  },
  {
   "cell_type": "code",
   "execution_count": 13,
   "metadata": {},
   "outputs": [
    {
     "name": "stdout",
     "output_type": "stream",
     "text": [
      "Sensibilidad del modelo:\n",
      "0.5170239596469105\n"
     ]
    }
   ],
   "source": [
    "from sklearn.metrics import recall_score\n",
    "\n",
    "sensibilidad=recall_score(y_test, y_pred, average=\"binary\", pos_label=\"No Entire home/apt\")\n",
    "print('Sensibilidad del modelo:')\n",
    "print(sensibilidad)"
   ]
  },
  {
   "cell_type": "code",
   "execution_count": 23,
   "metadata": {},
   "outputs": [],
   "source": [
    "df[\"host_is_superhost\"] = df[\"host_is_superhost\"].replace({\"SIN INFORMACION\":'f'})"
   ]
  },
  {
   "cell_type": "code",
   "execution_count": 24,
   "metadata": {},
   "outputs": [],
   "source": [
    "vars_indep=df[['price', 'availability_365', 'number_of_reviews']]\n",
    "var_dep=df['has_availability']\n",
    "\n",
    "X=vars_indep\n",
    "y=var_dep"
   ]
  },
  {
   "cell_type": "code",
   "execution_count": 26,
   "metadata": {},
   "outputs": [
    {
     "data": {
      "text/plain": [
       "array(['t', 't', 't', ..., 't', 't', 't'], dtype=object)"
      ]
     },
     "execution_count": 26,
     "metadata": {},
     "output_type": "execute_result"
    }
   ],
   "source": [
    "X_train, X_test, y_train, y_test = train_test_split(X, y, test_size=0.3, random_state=None)\n",
    "escalar=StandardScaler()\n",
    "X_train = escalar.fit_transform(X_train)\n",
    "X_test = escalar.transform(X_test)\n",
    "from sklearn.linear_model import LogisticRegression\n",
    "algoritmo=LogisticRegression()\n",
    "algoritmo.fit(X_train, y_train)\n",
    "y_pred=algoritmo.predict(X_test)\n",
    "y_pred"
   ]
  },
  {
   "cell_type": "code",
   "execution_count": 27,
   "metadata": {},
   "outputs": [
    {
     "name": "stdout",
     "output_type": "stream",
     "text": [
      "Matriz de confusion:\n",
      "[[    0    91]\n",
      " [    0 11000]]\n"
     ]
    }
   ],
   "source": [
    "from sklearn.metrics import confusion_matrix\n",
    "matriz=confusion_matrix(y_test, y_pred)\n",
    "print('Matriz de confusion:')\n",
    "print(matriz)"
   ]
  },
  {
   "cell_type": "code",
   "execution_count": 31,
   "metadata": {},
   "outputs": [
    {
     "name": "stdout",
     "output_type": "stream",
     "text": [
      "Precision del modelo:\n",
      "0.9917951492200884\n"
     ]
    }
   ],
   "source": [
    "from sklearn.metrics import precision_score\n",
    "\n",
    "precision=precision_score(y_test, y_pred, average=\"binary\", pos_label=\"t\")\n",
    "print('Precision del modelo:')\n",
    "print(precision)"
   ]
  },
  {
   "cell_type": "code",
   "execution_count": 32,
   "metadata": {},
   "outputs": [
    {
     "name": "stdout",
     "output_type": "stream",
     "text": [
      "Exactitud del modelo:\n",
      "0.9917951492200884\n"
     ]
    }
   ],
   "source": [
    "from sklearn.metrics import accuracy_score\n",
    "\n",
    "exactitud=accuracy_score(y_test, y_pred)\n",
    "print('Exactitud del modelo:')\n",
    "print(exactitud)"
   ]
  },
  {
   "cell_type": "code",
   "execution_count": 34,
   "metadata": {},
   "outputs": [
    {
     "name": "stdout",
     "output_type": "stream",
     "text": [
      "Sensibilidad del modelo:\n",
      "1.0\n"
     ]
    }
   ],
   "source": [
    "from sklearn.metrics import recall_score\n",
    "\n",
    "sensibilidad=recall_score(y_test, y_pred, average=\"binary\", pos_label=\"t\")\n",
    "print('Sensibilidad del modelo:')\n",
    "print(sensibilidad)"
   ]
  },
  {
   "cell_type": "code",
   "execution_count": 4,
   "metadata": {},
   "outputs": [
    {
     "name": "stdout",
     "output_type": "stream",
     "text": [
      "host_response_time\n",
      "1    19227\n",
      "2     6136\n",
      "5     5068\n",
      "3     3712\n",
      "4     2824\n",
      "Name: count, dtype: int64\n"
     ]
    },
    {
     "name": "stderr",
     "output_type": "stream",
     "text": [
      "C:\\Users\\angie\\AppData\\Local\\Temp\\ipykernel_20320\\2354697535.py:1: FutureWarning: Downcasting behavior in `replace` is deprecated and will be removed in a future version. To retain the old behavior, explicitly call `result.infer_objects(copy=False)`. To opt-in to the future behavior, set `pd.set_option('future.no_silent_downcasting', True)`\n",
      "  df[\"host_response_time\"] = df[\"host_response_time\"].replace({\n"
     ]
    }
   ],
   "source": [
    "df[\"host_response_time\"] = df[\"host_response_time\"].replace({\n",
    "    \"within an hour\": 1,\n",
    "    \"within a few hours\": 2,\n",
    "    \"within a day\": 3,\n",
    "    \"a few days or more\": 4,\n",
    "    \"SIN INFORMACION\": 5\n",
    "})\n",
    "\n",
    "# Verificar que la conversión fue correcta\n",
    "print(df[\"host_response_time\"].value_counts())"
   ]
  },
  {
   "cell_type": "code",
   "execution_count": 5,
   "metadata": {},
   "outputs": [],
   "source": [
    "vars_indep=df[['maximum_nights', 'minimum_nights', 'host_response_time']]\n",
    "var_dep=df['instant_bookable']\n",
    "\n",
    "X=vars_indep\n",
    "y=var_dep"
   ]
  },
  {
   "cell_type": "code",
   "execution_count": 6,
   "metadata": {},
   "outputs": [
    {
     "data": {
      "text/plain": [
       "array(['f', 'f', 'f', ..., 'f', 'f', 'f'], dtype=object)"
      ]
     },
     "execution_count": 6,
     "metadata": {},
     "output_type": "execute_result"
    }
   ],
   "source": [
    "X_train, X_test, y_train, y_test = train_test_split(X, y, test_size=0.3, random_state=None)\n",
    "escalar=StandardScaler()\n",
    "X_train = escalar.fit_transform(X_train)\n",
    "X_test = escalar.transform(X_test)\n",
    "from sklearn.linear_model import LogisticRegression\n",
    "algoritmo=LogisticRegression()\n",
    "algoritmo.fit(X_train, y_train)\n",
    "y_pred=algoritmo.predict(X_test)\n",
    "y_pred"
   ]
  },
  {
   "cell_type": "code",
   "execution_count": 7,
   "metadata": {},
   "outputs": [
    {
     "name": "stdout",
     "output_type": "stream",
     "text": [
      "Matriz de confusion:\n",
      "[[8561    0]\n",
      " [2530    0]]\n"
     ]
    }
   ],
   "source": [
    "from sklearn.metrics import confusion_matrix\n",
    "matriz=confusion_matrix(y_test, y_pred)\n",
    "print('Matriz de confusion:')\n",
    "print(matriz)"
   ]
  },
  {
   "cell_type": "code",
   "execution_count": 13,
   "metadata": {},
   "outputs": [
    {
     "name": "stdout",
     "output_type": "stream",
     "text": [
      "Precision del modelo:\n",
      "0.7718871156793797\n"
     ]
    }
   ],
   "source": [
    "from sklearn.metrics import precision_score\n",
    "\n",
    "precision=precision_score(y_test, y_pred, average=\"binary\", pos_label=\"f\")\n",
    "print('Precision del modelo:')\n",
    "print(precision)"
   ]
  },
  {
   "cell_type": "code",
   "execution_count": 14,
   "metadata": {},
   "outputs": [
    {
     "name": "stdout",
     "output_type": "stream",
     "text": [
      "Exactitud del modelo:\n",
      "0.7718871156793797\n"
     ]
    }
   ],
   "source": [
    "from sklearn.metrics import accuracy_score\n",
    "\n",
    "exactitud=accuracy_score(y_test, y_pred)\n",
    "print('Exactitud del modelo:')\n",
    "print(exactitud)"
   ]
  },
  {
   "cell_type": "code",
   "execution_count": 15,
   "metadata": {},
   "outputs": [
    {
     "name": "stdout",
     "output_type": "stream",
     "text": [
      "Sensibilidad del modelo:\n",
      "1.0\n"
     ]
    }
   ],
   "source": [
    "from sklearn.metrics import recall_score\n",
    "\n",
    "sensibilidad=recall_score(y_test, y_pred, average=\"binary\", pos_label=\"f\")\n",
    "print('Sensibilidad del modelo:')\n",
    "print(sensibilidad)"
   ]
  },
  {
   "cell_type": "code",
   "execution_count": 16,
   "metadata": {},
   "outputs": [
    {
     "name": "stdout",
     "output_type": "stream",
     "text": [
      "room_type\n",
      "1    29079\n",
      "2     7231\n",
      "3      629\n",
      "4       28\n",
      "Name: count, dtype: int64\n"
     ]
    },
    {
     "name": "stderr",
     "output_type": "stream",
     "text": [
      "C:\\Users\\angie\\AppData\\Local\\Temp\\ipykernel_20320\\4175036345.py:1: FutureWarning: Downcasting behavior in `replace` is deprecated and will be removed in a future version. To retain the old behavior, explicitly call `result.infer_objects(copy=False)`. To opt-in to the future behavior, set `pd.set_option('future.no_silent_downcasting', True)`\n",
      "  df[\"room_type\"] = df[\"room_type\"].replace({\n"
     ]
    }
   ],
   "source": [
    "df[\"room_type\"] = df[\"room_type\"].replace({\n",
    "    \"Entire home/apt\": 1,\n",
    "    \"Private room\": 2,\n",
    "    \"Shared room\": 3,\n",
    "    \"Hotel room\": 4\n",
    "})\n",
    "\n",
    "print(df[\"room_type\"].value_counts())"
   ]
  },
  {
   "cell_type": "code",
   "execution_count": null,
   "metadata": {},
   "outputs": [
    {
     "name": "stdout",
     "output_type": "stream",
     "text": [
      "bedrooms\n",
      "De 0 a 1 recamara    24401\n",
      "De 2 a 3 camas       12566\n",
      "Name: count, dtype: int64\n"
     ]
    }
   ],
   "source": [
    "df[\"bedrooms\"] = df[\"bedrooms\"].replace({\n",
    "    0: \"De 0 a 1 recamara\",\n",
    "    1: \"De 0 a 1 recamara\",\n",
    "    1.4: \"De 0 a 1 recamara\",\n",
    "    2: \"De 2 a 3 recamaras\",\n",
    "    3: \"De 2 a 3 recamaras\"\n",
    "})\n",
    "\n",
    "# Verificar que la conversión fue correcta\n",
    "print(df[\"bedrooms\"].value_counts())"
   ]
  },
  {
   "cell_type": "code",
   "execution_count": 19,
   "metadata": {},
   "outputs": [],
   "source": [
    "vars_indep=df[['room_type', 'bathrooms', 'beds']]\n",
    "var_dep=df['bedrooms']\n",
    "\n",
    "X=vars_indep\n",
    "y=var_dep"
   ]
  },
  {
   "cell_type": "code",
   "execution_count": 20,
   "metadata": {},
   "outputs": [
    {
     "data": {
      "text/plain": [
       "array(['De 0 a 1 recamara', 'De 2 a 3 camas', 'De 0 a 1 recamara', ...,\n",
       "       'De 0 a 1 recamara', 'De 0 a 1 recamara', 'De 0 a 1 recamara'],\n",
       "      dtype=object)"
      ]
     },
     "execution_count": 20,
     "metadata": {},
     "output_type": "execute_result"
    }
   ],
   "source": [
    "X_train, X_test, y_train, y_test = train_test_split(X, y, test_size=0.3, random_state=None)\n",
    "escalar=StandardScaler()\n",
    "X_train = escalar.fit_transform(X_train)\n",
    "X_test = escalar.transform(X_test)\n",
    "from sklearn.linear_model import LogisticRegression\n",
    "algoritmo=LogisticRegression()\n",
    "algoritmo.fit(X_train, y_train)\n",
    "y_pred=algoritmo.predict(X_test)\n",
    "y_pred"
   ]
  },
  {
   "cell_type": "code",
   "execution_count": 21,
   "metadata": {},
   "outputs": [
    {
     "name": "stdout",
     "output_type": "stream",
     "text": [
      "Matriz de confusion:\n",
      "[[6850  458]\n",
      " [1247 2536]]\n"
     ]
    }
   ],
   "source": [
    "from sklearn.metrics import confusion_matrix\n",
    "matriz=confusion_matrix(y_test, y_pred)\n",
    "print('Matriz de confusion:')\n",
    "print(matriz)"
   ]
  },
  {
   "cell_type": "code",
   "execution_count": 23,
   "metadata": {},
   "outputs": [
    {
     "name": "stdout",
     "output_type": "stream",
     "text": [
      "Precision del modelo:\n",
      "0.8459923428430283\n"
     ]
    }
   ],
   "source": [
    "from sklearn.metrics import precision_score\n",
    "\n",
    "precision=precision_score(y_test, y_pred, average=\"binary\", pos_label=\"De 0 a 1 recamara\")\n",
    "print('Precision del modelo:')\n",
    "print(precision)"
   ]
  },
  {
   "cell_type": "code",
   "execution_count": 24,
   "metadata": {},
   "outputs": [
    {
     "name": "stdout",
     "output_type": "stream",
     "text": [
      "Exactitud del modelo:\n",
      "0.8462717518708863\n"
     ]
    }
   ],
   "source": [
    "from sklearn.metrics import accuracy_score\n",
    "\n",
    "exactitud=accuracy_score(y_test, y_pred)\n",
    "print('Exactitud del modelo:')\n",
    "print(exactitud)"
   ]
  },
  {
   "cell_type": "code",
   "execution_count": 25,
   "metadata": {},
   "outputs": [
    {
     "name": "stdout",
     "output_type": "stream",
     "text": [
      "Sensibilidad del modelo:\n",
      "0.9373289545703338\n"
     ]
    }
   ],
   "source": [
    "from sklearn.metrics import recall_score\n",
    "\n",
    "sensibilidad=recall_score(y_test, y_pred, average=\"binary\", pos_label=\"De 0 a 1 recamara\")\n",
    "print('Sensibilidad del modelo:')\n",
    "print(sensibilidad)"
   ]
  },
  {
   "cell_type": "code",
   "execution_count": 27,
   "metadata": {},
   "outputs": [
    {
     "name": "stdout",
     "output_type": "stream",
     "text": [
      "minimum_nights\n",
      "De 0 a 3 noches minimas    32399\n",
      "De 3 a 6 noches minimas     4568\n",
      "Name: count, dtype: int64\n"
     ]
    }
   ],
   "source": [
    "df[\"minimum_nights\"] = df[\"minimum_nights\"].replace({\n",
    "    1: \"De 0 a 3 noches minimas\",\n",
    "    2: \"De 0 a 3 noches minimas\",\n",
    "    2.2: \"De 0 a 3 noches minimas\",\n",
    "    3: \"De 0 a 3 noches minimas\",\n",
    "    4: \"De 3 a 6 noches minimas\",\n",
    "    5: \"De 3 a 6 noches minimas\",\n",
    "    6: \"De 3 a 6 noches minimas\"\n",
    "})\n",
    "\n",
    "# Verificar que la conversión fue correcta\n",
    "print(df[\"minimum_nights\"].value_counts())"
   ]
  },
  {
   "cell_type": "code",
   "execution_count": 28,
   "metadata": {},
   "outputs": [],
   "source": [
    "vars_indep=df[['price', 'room_type', 'availability_365']]\n",
    "var_dep=df['minimum_nights']\n",
    "\n",
    "X=vars_indep\n",
    "y=var_dep"
   ]
  },
  {
   "cell_type": "code",
   "execution_count": 29,
   "metadata": {},
   "outputs": [
    {
     "data": {
      "text/plain": [
       "array(['De 0 a 3 noches minimas', 'De 0 a 3 noches minimas',\n",
       "       'De 0 a 3 noches minimas', ..., 'De 0 a 3 noches minimas',\n",
       "       'De 0 a 3 noches minimas', 'De 0 a 3 noches minimas'], dtype=object)"
      ]
     },
     "execution_count": 29,
     "metadata": {},
     "output_type": "execute_result"
    }
   ],
   "source": [
    "X_train, X_test, y_train, y_test = train_test_split(X, y, test_size=0.3, random_state=None)\n",
    "escalar=StandardScaler()\n",
    "X_train = escalar.fit_transform(X_train)\n",
    "X_test = escalar.transform(X_test)\n",
    "from sklearn.linear_model import LogisticRegression\n",
    "algoritmo=LogisticRegression()\n",
    "algoritmo.fit(X_train, y_train)\n",
    "y_pred=algoritmo.predict(X_test)\n",
    "y_pred"
   ]
  },
  {
   "cell_type": "code",
   "execution_count": 30,
   "metadata": {},
   "outputs": [
    {
     "name": "stdout",
     "output_type": "stream",
     "text": [
      "Matriz de confusion:\n",
      "[[9649    0]\n",
      " [1442    0]]\n"
     ]
    }
   ],
   "source": [
    "from sklearn.metrics import confusion_matrix\n",
    "matriz=confusion_matrix(y_test, y_pred)\n",
    "print('Matriz de confusion:')\n",
    "print(matriz)"
   ]
  },
  {
   "cell_type": "code",
   "execution_count": 32,
   "metadata": {},
   "outputs": [
    {
     "name": "stdout",
     "output_type": "stream",
     "text": [
      "Precision del modelo:\n",
      "0.8699846722567848\n"
     ]
    }
   ],
   "source": [
    "from sklearn.metrics import precision_score\n",
    "\n",
    "precision=precision_score(y_test, y_pred, average=\"binary\", pos_label=\"De 0 a 3 noches minimas\")\n",
    "print('Precision del modelo:')\n",
    "print(precision)"
   ]
  },
  {
   "cell_type": "code",
   "execution_count": 33,
   "metadata": {},
   "outputs": [
    {
     "name": "stdout",
     "output_type": "stream",
     "text": [
      "Exactitud del modelo:\n",
      "0.8699846722567848\n"
     ]
    }
   ],
   "source": [
    "from sklearn.metrics import accuracy_score\n",
    "\n",
    "exactitud=accuracy_score(y_test, y_pred)\n",
    "print('Exactitud del modelo:')\n",
    "print(exactitud)"
   ]
  },
  {
   "cell_type": "code",
   "execution_count": 34,
   "metadata": {},
   "outputs": [
    {
     "name": "stdout",
     "output_type": "stream",
     "text": [
      "Sensibilidad del modelo:\n",
      "1.0\n"
     ]
    }
   ],
   "source": [
    "from sklearn.metrics import recall_score\n",
    "\n",
    "sensibilidad=recall_score(y_test, y_pred, average=\"binary\", pos_label=\"De 0 a 3 noches minimas\")\n",
    "print('Sensibilidad del modelo:')\n",
    "print(sensibilidad)"
   ]
  }
 ],
 "metadata": {
  "kernelspec": {
   "display_name": "Python 3",
   "language": "python",
   "name": "python3"
  },
  "language_info": {
   "codemirror_mode": {
    "name": "ipython",
    "version": 3
   },
   "file_extension": ".py",
   "mimetype": "text/x-python",
   "name": "python",
   "nbconvert_exporter": "python",
   "pygments_lexer": "ipython3",
   "version": "3.11.2"
  }
 },
 "nbformat": 4,
 "nbformat_minor": 2
}
